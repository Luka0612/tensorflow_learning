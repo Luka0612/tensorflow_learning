{
 "cells": [
  {
   "cell_type": "code",
   "execution_count": 1,
   "metadata": {
    "collapsed": true
   },
   "outputs": [
    {
     "name": "stdout",
     "output_type": "stream",
     "text": [
      "Hello,world!\n"
     ]
    }
   ],
   "source": [
    "# coding: utf-8\n",
    "import tensorflow as tf\n",
    "\n",
    "# 默认Tensorflow会话\n",
    "sess = tf.InteractiveSession()\n",
    "\n",
    "# 常量\n",
    "hello = tf.constant('Hello,world!', dtype=tf.string)\n",
    "\n",
    "print hello.eval()"
   ]
  },
  {
   "cell_type": "code",
   "execution_count": 2,
   "metadata": {},
   "outputs": [
    {
     "name": "stdout",
     "output_type": "stream",
     "text": [
      "10\n"
     ]
    }
   ],
   "source": [
    "# coding: utf-8\n",
    "\"\"\"\n",
    "tf.int8：8位整数。\n",
    "tf.int16：16位整数。\n",
    "tf.int32：32位整数。\n",
    "tf.int64：64位整数。\n",
    "tf.uint8：8位无符号整数。\n",
    "tf.uint16：16位无符号整数。\n",
    "tf.float16：16位浮点数。\n",
    "tf.float32：32位浮点数。\n",
    "tf.float64：64位浮点数。\n",
    "tf.double：等同于tf.float64。\n",
    "tf.string：字符串。\n",
    "tf.bool：布尔型。\n",
    "tf.complex64：64位复数。\n",
    "tf.complex128：128位复数。\n",
    "\"\"\"\n",
    "# 变量, 10是变量初始值\n",
    "# tf.Variable.init(initial_value, trainable=True, collections=None, validate_shape=True, name=None)\n",
    "# trainable=True会把它加入到GraphKeys.TRAINABLE_VARIABLES，才能对它使用Optimizer\n",
    "# collections 指定该图变量的类型、默认为[GraphKeys.GLOBAL_VARIABLES]\n",
    "# validate_shape 如果为False，则不进行类型和维度检查\n",
    "a = tf.Variable(10, dtype=tf.int32)\n",
    "tf.global_variables_initializer().run()\n",
    "print a.eval()"
   ]
  },
  {
   "cell_type": "code",
   "execution_count": 3,
   "metadata": {},
   "outputs": [
    {
     "name": "stdout",
     "output_type": "stream",
     "text": [
      "[5.]\n"
     ]
    }
   ],
   "source": [
    "# coding=utf-8\n",
    "# tf.get_variable的用法要更丰富一点，当指定名称的图变量已经存在时表示获取它，当指定名称的图变量不存在时表示定义它\n",
    "init = tf.constant_initializer([5])\n",
    "a = tf.get_variable('a', shape=[1], initializer=init)\n",
    "\n",
    "sess.run(a.initializer)\n",
    "print a.eval()"
   ]
  },
  {
   "cell_type": "code",
   "execution_count": 4,
   "metadata": {},
   "outputs": [
    {
     "name": "stdout",
     "output_type": "stream",
     "text": [
      "scope/var:0 scope/var:0\n"
     ]
    }
   ],
   "source": [
    "with tf.variable_scope('scope'):\n",
    "    v1 = tf.get_variable('var', [1])\n",
    "    tf.get_variable_scope().reuse_variables()\n",
    "    v2 = tf.get_variable('var', [1])\n",
    "    \n",
    "with tf.variable_scope('scope2'):\n",
    "    v3 = tf.get_variable('x', [1])\n",
    "    \n",
    "\n",
    "    \n",
    "print v1.name, v2.name"
   ]
  },
  {
   "cell_type": "code",
   "execution_count": null,
   "metadata": {},
   "outputs": [],
   "source": [
    ""
   ]
  }
 ],
 "metadata": {
  "kernelspec": {
   "display_name": "Python 2",
   "language": "python",
   "name": "python2"
  },
  "language_info": {
   "codemirror_mode": {
    "name": "ipython",
    "version": 2.0
   },
   "file_extension": ".py",
   "mimetype": "text/x-python",
   "name": "python",
   "nbconvert_exporter": "python",
   "pygments_lexer": "ipython2",
   "version": "2.7.6"
  }
 },
 "nbformat": 4,
 "nbformat_minor": 0
}